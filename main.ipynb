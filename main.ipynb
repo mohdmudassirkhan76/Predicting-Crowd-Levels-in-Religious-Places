{
 "cells": [
  {
   "cell_type": "code",
   "execution_count": 5,
   "metadata": {},
   "outputs": [
    {
     "name": "stdout",
     "output_type": "stream",
     "text": [
      "✅ Regression MSE: 1754771.791945485\n",
      "✅ Classification Accuracy: 0.33482587064676617\n",
      "🎉 Improved models & encoders saved successfully!\n"
     ]
    }
   ],
   "source": [
    "import pandas as pd\n",
    "import numpy as np\n",
    "from sklearn.model_selection import train_test_split\n",
    "from sklearn.preprocessing import LabelEncoder\n",
    "from sklearn.ensemble import RandomForestRegressor, RandomForestClassifier\n",
    "from sklearn.metrics import mean_squared_error, accuracy_score\n",
    "import joblib\n",
    "from numpy import hstack\n",
    "\n",
    "# Load dataset\n",
    "df = pd.read_csv(\"main.2 - Sheet1.csv\")\n",
    "\n",
    "# Convert Date column to datetime\n",
    "df['Date'] = pd.to_datetime(df['Date'], errors='coerce')\n",
    "\n",
    "# Extract new features from Date\n",
    "df['Day'] = df['Date'].dt.day\n",
    "df['Month'] = df['Date'].dt.month\n",
    "df['Year'] = df['Date'].dt.year\n",
    "df['Weekday'] = df['Date'].dt.weekday  # 0=Monday, 6=Sunday\n",
    "df['IsWeekend'] = df['Weekday'].apply(lambda x: 1 if x >= 5 else 0)\n",
    "\n",
    "# Encode categorical columns\n",
    "le_place = LabelEncoder()\n",
    "df['Place_encoded'] = le_place.fit_transform(df['Religious_Place'])\n",
    "\n",
    "le_country = LabelEncoder()\n",
    "df['Country_encoded'] = le_country.fit_transform(df['Country'])\n",
    "\n",
    "le_holiday = LabelEncoder()\n",
    "df['Holiday_encoded'] = le_holiday.fit_transform(df['Public_Holiday'])\n",
    "\n",
    "le_crowd = LabelEncoder()\n",
    "df['Crowd_encoded'] = le_crowd.fit_transform(df['crowd_level'])\n",
    "\n",
    "# Define Inputs (X) and Outputs (y)\n",
    "X = df[['Past Crowd Levels', 'Holiday_encoded', 'Day', 'Month', 'Weekday',\n",
    "        'IsWeekend', 'Place_encoded', 'Country_encoded']]\n",
    "y_reg = df['visitor_count']            # Regression target\n",
    "y_clf = df['Crowd_encoded']            # Classification target\n",
    "\n",
    "# Split dataset\n",
    "X_train, X_test, y_reg_train, y_reg_test, y_clf_train, y_clf_test = train_test_split(\n",
    "    X, y_reg, y_clf, test_size=0.2, random_state=42\n",
    ")\n",
    "\n",
    "# Train Regression model\n",
    "reg_model = RandomForestRegressor(n_estimators=200, random_state=42)\n",
    "reg_model.fit(X_train, y_reg_train)\n",
    "y_reg_pred = reg_model.predict(X_test)\n",
    "reg_mse = mean_squared_error(y_reg_test, y_reg_pred)\n",
    "\n",
    "# Train Classification model\n",
    "clf_model = RandomForestClassifier(n_estimators=200, random_state=42)\n",
    "clf_model.fit(X_train, y_clf_train)\n",
    "y_clf_pred = clf_model.predict(X_test)\n",
    "clf_acc = accuracy_score(y_clf_test, y_clf_pred)\n",
    "\n",
    "print(\"✅ Regression MSE:\", reg_mse)\n",
    "print(\"✅ Classification Accuracy:\", clf_acc)\n",
    "\n",
    "# Save models + encoders\n",
    "joblib.dump(reg_model, \"regression_model.joblib\")\n",
    "joblib.dump(clf_model, \"classification_model.joblib\")\n",
    "joblib.dump(le_place, \"label_encoder_place.joblib\")\n",
    "joblib.dump(le_country, \"label_encoder_country.joblib\")\n",
    "joblib.dump(le_holiday, \"label_encoder_holiday.joblib\")\n",
    "joblib.dump(le_crowd, \"label_encoder_crowd.joblib\")\n",
    "\n",
    "print(\"🎉 Improved models & encoders saved successfully!\")\n"
   ]
  },
  {
   "cell_type": "code",
   "execution_count": 6,
   "metadata": {},
   "outputs": [
    {
     "name": "stdout",
     "output_type": "stream",
     "text": [
      "🎉 Improved models & encoders saved successfully!\n"
     ]
    }
   ],
   "source": [
    "joblib.dump(reg_model, \"regression_model.joblib\")\n",
    "joblib.dump(clf_model, \"classification_model.joblib\")\n",
    "joblib.dump(le_place, \"label_encoder_place.joblib\")\n",
    "joblib.dump(le_country, \"label_encoder_country.joblib\")\n",
    "joblib.dump(le_holiday, \"label_encoder_holiday.joblib\")\n",
    "joblib.dump(le_crowd, \"label_encoder_crowd.joblib\")\n",
    "\n",
    "print(\"🎉 Improved models & encoders saved successfully!\")"
   ]
  }
 ],
 "metadata": {
  "kernelspec": {
   "display_name": "Python 3",
   "language": "python",
   "name": "python3"
  },
  "language_info": {
   "codemirror_mode": {
    "name": "ipython",
    "version": 3
   },
   "file_extension": ".py",
   "mimetype": "text/x-python",
   "name": "python",
   "nbconvert_exporter": "python",
   "pygments_lexer": "ipython3",
   "version": "3.11.1"
  }
 },
 "nbformat": 4,
 "nbformat_minor": 2
}
